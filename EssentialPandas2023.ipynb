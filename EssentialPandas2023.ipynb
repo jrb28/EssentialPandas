{
 "cells": [
  {
   "cell_type": "markdown",
   "id": "5529a598",
   "metadata": {},
   "source": [
    "# NYC Taxi Data <a name='nyc' />  \n",
    "\n",
    "[NYC Taxi Cab Data](https://www.kaggle.com/c/new-york-city-taxi-fare-prediction/data)\n",
    "\n",
    "The original data set from Kaggle ([NYC Taxi Cab Data](https://www.kaggle.com/c/new-york-city-taxi-fare-prediction/data)) is  5.7GB.  While it is unlikely to crash your computer upon first loading it, it can take a few minutes to do so.  Furthermore, certain less efficient <code>pandas</code> operations can take a long time or crash your computer.  We are using, therefore, a truncated version of that data which is about 20MB in size."
   ]
  },
  {
   "cell_type": "code",
   "execution_count": null,
   "id": "32e4c0a9",
   "metadata": {},
   "outputs": [],
   "source": [
    "import pandas as pd"
   ]
  },
  {
   "cell_type": "code",
   "execution_count": null,
   "id": "9c40b7c0",
   "metadata": {},
   "outputs": [],
   "source": [
    "import time\n",
    "\n",
    "start = time.time()\n",
    "file_name = 'files/new-york-city-taxi-fare-prediction/train_sm.csv'\n",
    "df = pd.read_csv(file_name)\n",
    "print(f'Loading {file_name} into pandas took {time.time() - start} seconds')"
   ]
  },
  {
   "cell_type": "markdown",
   "id": "ac67454f",
   "metadata": {},
   "source": [
    "# Analysis Tasks\n",
    "\n",
    "- What is the most recent pickup/dropoff time in each location?\n",
    "- What are the most frequent pickup and dropoff locations?\n",
    "- What are the most frequent origin-destination pairs?\n",
    "- Create a frequency histogram table for number of passengers.\n",
    "- Create a frequency histogram for fare amount.\n",
    "- Inspect frequency of trips over time for the most popular trip pattern.\n",
    "- Compute a frequency histogram table for fare amount for the most popular trip pattern.\n",
    "\n",
    "These tasks are selected based on two criteria:\n",
    "\n",
    "- To demonstrate frequently-used, and effective <code>pandas</code> techniques.\n",
    "- To prepare you for the types of analyses needed for the <code>pandas</code> assignment."
   ]
  },
  {
   "cell_type": "markdown",
   "id": "f16549d3",
   "metadata": {},
   "source": [
    "# Inspecting the Data and Minor Data Wrangling"
   ]
  },
  {
   "cell_type": "code",
   "execution_count": null,
   "id": "de1e2fd7",
   "metadata": {},
   "outputs": [],
   "source": [
    "df.shape"
   ]
  },
  {
   "cell_type": "code",
   "execution_count": null,
   "id": "d5c60903",
   "metadata": {},
   "outputs": [],
   "source": [
    "df.head()"
   ]
  },
  {
   "cell_type": "code",
   "execution_count": null,
   "id": "5089e852",
   "metadata": {},
   "outputs": [],
   "source": [
    "df.columns"
   ]
  },
  {
   "cell_type": "code",
   "execution_count": null,
   "id": "da55f404",
   "metadata": {},
   "outputs": [],
   "source": [
    "df.dtypes"
   ]
  },
  {
   "cell_type": "code",
   "execution_count": null,
   "id": "8feb625e",
   "metadata": {},
   "outputs": [],
   "source": [
    "df.describe()"
   ]
  },
  {
   "cell_type": "markdown",
   "id": "d88d0883",
   "metadata": {},
   "source": [
    "Note that the boundaries of New York City east to west are longitude -73.70168 to -74.25563, respectively, and south to north 40.49613 to 40.91759 in latitude, respectively.  Data anomalies are evident, therefore, in the four columns of longitude and latitude data by observing the minimum and maximum of the data in those columns. \n",
    "\n",
    "Note also that the column entitled \"key\" is the pickup time with very high precision so taht there would be no duplicates in that column.  The default integer index suffices as a key and so we can drop that column."
   ]
  },
  {
   "cell_type": "markdown",
   "id": "cee9d4ed",
   "metadata": {},
   "source": [
    "## Data Wrangling\n",
    "\n",
    "Let's do these things:\n",
    "\n",
    "- Drop the key column\n",
    "- Delete rows where the latitude or longitude are out of bounds"
   ]
  },
  {
   "cell_type": "code",
   "execution_count": null,
   "id": "8bda0fed",
   "metadata": {},
   "outputs": [],
   "source": [
    "df.drop('key', axis=1, inplace=True)\n",
    "df.head()"
   ]
  },
  {
   "cell_type": "markdown",
   "id": "e038215f",
   "metadata": {},
   "source": [
    "Note that we can filter which rows are returned by creating a sequence of Boolean values whose number equals the number of rows being referenced."
   ]
  },
  {
   "cell_type": "code",
   "execution_count": null,
   "id": "ff670bbf",
   "metadata": {},
   "outputs": [],
   "source": [
    "df.iloc[:5][[True, False, True, False, True]]"
   ]
  },
  {
   "cell_type": "markdown",
   "id": "632640fa",
   "metadata": {},
   "source": [
    "Also note that we can construct sequences of True and False values using <code>pandas</code> Boolean operators.  For a simple example, We could filter out rows where the pickup latitude was geater than 40.9 in the following way.  The first statement creates a series of boolean values and the second statement uses it to display the rows corresponding to a True value."
   ]
  },
  {
   "cell_type": "code",
   "execution_count": null,
   "id": "b268811f",
   "metadata": {},
   "outputs": [],
   "source": [
    "df['pickup_latitude'] > 40.9"
   ]
  },
  {
   "cell_type": "code",
   "execution_count": null,
   "id": "3aa10482",
   "metadata": {},
   "outputs": [],
   "source": [
    "df[df['pickup_latitude'] > 40.9]"
   ]
  },
  {
   "cell_type": "markdown",
   "id": "888aa422",
   "metadata": {},
   "source": [
    "The statement below displays the rows with outlier latitude and longitude data outside the region of our grid.  Note with multiple conditional phrases and the and/or operators <code>&</code>/<code>|</code> that each phrase must be within parentheses."
   ]
  },
  {
   "cell_type": "markdown",
   "id": "07b67e5f",
   "metadata": {},
   "source": [
    "We can use these two ideas to find the rows with obviously erroneous latitude and longitude."
   ]
  },
  {
   "cell_type": "code",
   "execution_count": null,
   "id": "5bd02bf1",
   "metadata": {},
   "outputs": [],
   "source": [
    "lat_min = 40.49613\n",
    "lat_max = 40.91759\n",
    "lon_min = -74.25563\n",
    "lon_max = -73.70168\n",
    "\n",
    "\n",
    "outliers = df[(df['pickup_longitude'] < lon_min) | (df['pickup_longitude'] > lon_max) | \n",
    "              (df['pickup_latitude']<lat_min) | (df['pickup_latitude']>lat_max) | \n",
    "              (df['dropoff_longitude']<lon_min) | (df['dropoff_longitude'] > lon_max) | \n",
    "              (df['dropoff_latitude']<lat_min) | (df['dropoff_latitude']>lat_max)]\n",
    "outliers.shape, outliers"
   ]
  },
  {
   "cell_type": "markdown",
   "id": "0a5eb266",
   "metadata": {},
   "source": [
    "There are many records with zeros for latitude and longitude.  Drop the outlier rows from the DataFrame using the not operator: <code>~</code>."
   ]
  },
  {
   "cell_type": "code",
   "execution_count": null,
   "id": "1c0f4e85",
   "metadata": {},
   "outputs": [],
   "source": [
    "df = df[~((df['pickup_longitude'] < lon_min) | (df['pickup_longitude'] > lon_max) | (df['pickup_latitude']<lat_min) | (df['pickup_latitude']>lat_max) | (df['dropoff_longitude']<lon_min) | (df['dropoff_longitude'] > lon_max) | (df['dropoff_latitude']<lat_min) | (df['dropoff_latitude']>lat_max))]\n",
    "df.describe()"
   ]
  },
  {
   "cell_type": "code",
   "execution_count": null,
   "id": "1112639c",
   "metadata": {},
   "outputs": [],
   "source": [
    "df.shape"
   ]
  },
  {
   "cell_type": "markdown",
   "id": "4818a4fc",
   "metadata": {},
   "source": [
    "Note that the count values are not the same for each column, indicating most likely, that there are some NULL values in the dropoff latitude and longitude columns.  Let's check.  We will use the <code>pd.isna()</code> function to accomplish this."
   ]
  },
  {
   "cell_type": "code",
   "execution_count": null,
   "id": "7e4829b7",
   "metadata": {},
   "outputs": [],
   "source": [
    "df[pd.isna(df['dropoff_longitude']) | pd.isna(df['dropoff_latitude'])]"
   ]
  },
  {
   "cell_type": "markdown",
   "id": "38524fc3",
   "metadata": {},
   "source": [
    "Drop the rows with <code>NaN</code> values"
   ]
  },
  {
   "cell_type": "code",
   "execution_count": null,
   "id": "bd7acfc6",
   "metadata": {},
   "outputs": [],
   "source": [
    "df = df[(pd.notna(df['dropoff_longitude']) & pd.notna(df['dropoff_latitude']))]"
   ]
  },
  {
   "cell_type": "code",
   "execution_count": null,
   "id": "c60dfe1e",
   "metadata": {},
   "outputs": [],
   "source": [
    "df.shape"
   ]
  },
  {
   "cell_type": "code",
   "execution_count": null,
   "id": "7a9a5d28",
   "metadata": {},
   "outputs": [],
   "source": [
    "df.describe()"
   ]
  },
  {
   "cell_type": "markdown",
   "id": "1da3f440",
   "metadata": {},
   "source": [
    "An alternate method"
   ]
  },
  {
   "cell_type": "code",
   "execution_count": null,
   "id": "088e3f81",
   "metadata": {},
   "outputs": [],
   "source": [
    "#df.dropna(inplace=True)"
   ]
  },
  {
   "cell_type": "markdown",
   "id": "9b161614",
   "metadata": {},
   "source": [
    "Alternately, one could have used this statement, although it is less preferred."
   ]
  },
  {
   "cell_type": "code",
   "execution_count": null,
   "id": "65bbf99c",
   "metadata": {},
   "outputs": [],
   "source": [
    "#df.drop(120227, inplace=True)"
   ]
  },
  {
   "cell_type": "markdown",
   "id": "9db9438e",
   "metadata": {},
   "source": [
    "The <code>pickup_datetime</code> column is formatted as a string, as indicated below.  We will want to sort by the data and time and so we need to convert this column to a data type that permits that."
   ]
  },
  {
   "cell_type": "code",
   "execution_count": null,
   "id": "c538510d",
   "metadata": {},
   "outputs": [],
   "source": [
    "df.dtypes"
   ]
  },
  {
   "cell_type": "code",
   "execution_count": null,
   "id": "090130e4",
   "metadata": {},
   "outputs": [],
   "source": [
    "df['pickup_datetime'] = pd.to_datetime(df['pickup_datetime'])"
   ]
  },
  {
   "cell_type": "code",
   "execution_count": null,
   "id": "87621f97",
   "metadata": {},
   "outputs": [],
   "source": [
    "df.dtypes"
   ]
  },
  {
   "cell_type": "markdown",
   "id": "8a5ac869",
   "metadata": {},
   "source": [
    "Some rows exist, still, with erroneous data for <code>fare_amount</code> and <code>passenger_count</code> but we will let those remain as our first concern is with the pickup and dropoff locations."
   ]
  },
  {
   "cell_type": "markdown",
   "id": "a9cbb95a",
   "metadata": {},
   "source": [
    "# Analyzing Trip Patterns\n",
    "\n",
    "We will not explain the code for creating a map and the representation of the grid in detail because it is not the primary focus.  moreover, the goal of creating the grid is to create categorical variables that characterize the pickup and dropoff locations, which are more easily analyzed than are floating-point latitude and longitude, and these types of data field already exist for the homework assignment data.  The NYC area is divded into a grid and each pickup and dropoff location are given latitude and longitude values from 0 to 14 in the code below.\n",
    "\n",
    "![NYC_Map](files/nyc_grid_ind.jpg)"
   ]
  },
  {
   "cell_type": "markdown",
   "id": "8897f205",
   "metadata": {},
   "source": [
    "Create the coordinates that define the grid in the image using the <code>path</code> variable.  map using Google Static Maps API"
   ]
  },
  {
   "cell_type": "code",
   "execution_count": null,
   "id": "7f529dc6",
   "metadata": {},
   "outputs": [],
   "source": [
    "import numpy as np\n",
    "\n",
    "# create numpy ranges for lat-lon grid\n",
    "lon = [-73.70168, -74.25]\n",
    "lat = [40.49613, 40.91759]\n",
    "num_grid = 15\n",
    "pitch = ((max(lon) - min(lon) )/num_grid, (max(lat) -min(lat) )/num_grid)\n",
    "rng_lon = np.arange(min(lon), max(lon), pitch[0])\n",
    "rng_lat = np.arange(min(lat), max(lat), pitch[1])\n",
    "print(f'center = {sum(lat)/2}, {sum(lon)/2}')\n",
    "rng_lat, rng_lon, pitch"
   ]
  },
  {
   "cell_type": "code",
   "execution_count": null,
   "id": "4ab3e77d",
   "metadata": {},
   "outputs": [],
   "source": [
    "path = []\n",
    "for i in range(len(rng_lon) + 1):\n",
    "    path.append((rng_lon[0] + i * pitch[0], lat[0], rng_lon[0] + i * pitch[0], lat[1]))\n",
    "    \n",
    "for j in range(len(rng_lat) + 1):\n",
    "    path.append((lon[0], rng_lat[0] + j * pitch[1], lon[1], rng_lat[0] + j * pitch[1]))\n",
    "    \n",
    "path = [f'&path=color:red|weight:2|{x[1]},{x[0]}|{x[3]},{x[2]}' for x in path]\n",
    "path = ''.join(path)\n",
    "path"
   ]
  },
  {
   "cell_type": "markdown",
   "id": "fa7ac715",
   "metadata": {},
   "source": [
    "Create the URL to get a map via Google Static Maps using the <code>path</code> variable.  You need to create a Google Developer account to use with the URL to get a map, which would be embedded into the URL that is created below."
   ]
  },
  {
   "cell_type": "code",
   "execution_count": null,
   "id": "1d6b4389",
   "metadata": {},
   "outputs": [],
   "source": [
    "key ="
   ]
  },
  {
   "cell_type": "code",
   "execution_count": null,
   "id": "fd25996f",
   "metadata": {},
   "outputs": [],
   "source": [
    "url = f'https://maps.googleapis.com/maps/api/staticmap?size=600x800&center=40.70686,-73.978&zoom=10{path}&key={key}'\n",
    "url"
   ]
  },
  {
   "cell_type": "markdown",
   "id": "6d3edb66",
   "metadata": {},
   "source": [
    "Get and display the image using the <code>PIL</code> package."
   ]
  },
  {
   "cell_type": "code",
   "execution_count": null,
   "id": "101f58b1",
   "metadata": {},
   "outputs": [],
   "source": [
    "# Use Google Static Maps API and save JPG iamge\n",
    "\n",
    "import requests\n",
    "import json\n",
    "from PIL import Image\n",
    "import io\n",
    "\n",
    "response = requests.get(url).content\n",
    "img = Image.open(io.BytesIO(response))\n",
    "# The next statement is commented out because the file has already been saved\n",
    "#img.convert('RGB').save('files/nyc_grid.jpg', 'JPEG')\n",
    "img.show()  # creates external image with map\n",
    "display(img) # displays inline"
   ]
  },
  {
   "cell_type": "markdown",
   "id": "7a5090c1",
   "metadata": {},
   "source": [
    "Apply index labels to graph."
   ]
  },
  {
   "cell_type": "code",
   "execution_count": null,
   "id": "db907c66",
   "metadata": {},
   "outputs": [],
   "source": [
    "from PIL import Image\n",
    "from PIL import ImageFont\n",
    "from PIL import ImageDraw \n",
    "\n",
    "import numpy as np\n",
    "\n",
    "draw = ImageDraw.Draw(img)\n",
    "indices = [str(i) if i >=10 else '  ' + str(i) for i in np.arange(14,-1,-1)]\n",
    "font_size = 20\n",
    "font_path = 'files/times.ttf'\n",
    "font = ImageFont.truetype(font_path, font_size)\n",
    "for i,v in enumerate(np.arange(120,521,26.9)):\n",
    "    draw.text((80, v),f'{str(indices[i])}',(255,0,0), font=font, align='right')\n",
    "indices = [str(i) for i in np.arange(15)]\n",
    "for i,v in enumerate(np.arange(110,500,26.5)):\n",
    "    draw.text((v,520), f'{str(indices[i])}',(255,0,0), font=font, align='right')\n",
    "\n",
    "# The next statemenet is commented out because the image has already been saved\n",
    "#img.convert('RGB').save('files/nyc_grid_ind.jpg', 'JPEG')\n",
    "display(img)"
   ]
  },
  {
   "cell_type": "code",
   "execution_count": null,
   "id": "96406708",
   "metadata": {},
   "outputs": [],
   "source": [
    "# create four columns for categorical lat-lon labels\n",
    "df[['cat_lat_pu','cat_lon_pu','cat_lat_do','cat_lon_do']] = np.nan, np.nan, np.nan, np.nan"
   ]
  },
  {
   "cell_type": "code",
   "execution_count": null,
   "id": "6d3de343",
   "metadata": {},
   "outputs": [],
   "source": [
    "df.describe()"
   ]
  },
  {
   "cell_type": "code",
   "execution_count": null,
   "id": "bc084c54",
   "metadata": {},
   "outputs": [],
   "source": [
    "# coords() function to compute lat-lon categorical labels \n",
    "\n",
    "import bisect\n",
    "def coords(lat,lon):\n",
    "    return bisect.bisect_right(rng_lat, lat) - 1, bisect.bisect_right(rng_lon, lon) - 1"
   ]
  },
  {
   "cell_type": "code",
   "execution_count": null,
   "id": "582214b8",
   "metadata": {},
   "outputs": [],
   "source": [
    "# test coords\n",
    "import numpy as np\n",
    "for lat in np.arange(40.505, 40.92, 0.03655466666666693):\n",
    "    for lon in np.arange(-74.23, -73.72, 0.02809733333333308):\n",
    "        print(coords(lat,lon))"
   ]
  },
  {
   "cell_type": "code",
   "execution_count": null,
   "id": "005520a0",
   "metadata": {},
   "outputs": [],
   "source": [
    "# function for pandas dataFrame apply method\n",
    "\n",
    "def lat_lon_cat(row):\n",
    "    row[['cat_lat_pu', 'cat_lon_pu']] = coords(row['pickup_latitude'], row['pickup_longitude'])\n",
    "    row[['cat_lat_do', 'cat_lon_do']] = coords(row['dropoff_latitude'], row['dropoff_longitude'])\n",
    "    return row"
   ]
  },
  {
   "cell_type": "code",
   "execution_count": null,
   "id": "259da5a4",
   "metadata": {},
   "outputs": [],
   "source": [
    "# Insert categorical lat-lon variables into new columns with the DataFrame apply() method\n",
    "#   - the apply() method is very slow--use alternate methods when possible\n",
    "\n",
    "df = df.apply(lat_lon_cat, axis=1)"
   ]
  },
  {
   "cell_type": "code",
   "execution_count": null,
   "id": "dee31dfa",
   "metadata": {},
   "outputs": [],
   "source": [
    "df.describe()"
   ]
  },
  {
   "cell_type": "code",
   "execution_count": null,
   "id": "92f48480",
   "metadata": {},
   "outputs": [],
   "source": [
    "df['cat_lat_pu'].value_counts()"
   ]
  },
  {
   "cell_type": "code",
   "execution_count": null,
   "id": "a4d07ffd",
   "metadata": {},
   "outputs": [],
   "source": [
    "df['cat_lon_pu'].value_counts()"
   ]
  },
  {
   "cell_type": "code",
   "execution_count": null,
   "id": "0e5f5f30",
   "metadata": {},
   "outputs": [],
   "source": [
    "df[['cat_lat_pu','cat_lon_pu']].value_counts()"
   ]
  },
  {
   "cell_type": "code",
   "execution_count": null,
   "id": "b45027b1",
   "metadata": {},
   "outputs": [],
   "source": [
    "df[['cat_lat_do','cat_lon_do']].value_counts()"
   ]
  },
  {
   "cell_type": "code",
   "execution_count": null,
   "id": "6bb2f8fb",
   "metadata": {},
   "outputs": [],
   "source": [
    "df[['cat_lat_pu','cat_lon_pu','cat_lat_do','cat_lon_do']].value_counts()"
   ]
  },
  {
   "cell_type": "markdown",
   "id": "dffb1ad3",
   "metadata": {},
   "source": [
    "# An Effective <code>DataFrame</code> Technique: <code>groupby()</code>\n",
    "\n",
    "This method subdivides the <code>DataFrame</code> into multiple <code>DataFrame</code>s depending on the values in selected columns.  This approach can be used to get <code>.value_counts()</code>"
   ]
  },
  {
   "cell_type": "code",
   "execution_count": null,
   "id": "b4c83e01",
   "metadata": {},
   "outputs": [],
   "source": [
    "group_pu = df.groupby(['cat_lat_pu','cat_lon_pu'])"
   ]
  },
  {
   "cell_type": "code",
   "execution_count": null,
   "id": "dbfec4b4",
   "metadata": {},
   "outputs": [],
   "source": [
    "len(group_pu)"
   ]
  },
  {
   "cell_type": "code",
   "execution_count": null,
   "id": "bb3e6a3c",
   "metadata": {},
   "outputs": [],
   "source": [
    "group_pu.groups"
   ]
  },
  {
   "cell_type": "code",
   "execution_count": null,
   "id": "5338ce95",
   "metadata": {},
   "outputs": [],
   "source": [
    "group_pu.groups.keys()"
   ]
  },
  {
   "cell_type": "code",
   "execution_count": null,
   "id": "b74bdb31",
   "metadata": {
    "scrolled": true
   },
   "outputs": [],
   "source": [
    "group_pu.get_group((9,7))"
   ]
  },
  {
   "cell_type": "code",
   "execution_count": null,
   "id": "89ac65d0",
   "metadata": {},
   "outputs": [],
   "source": [
    "# previous statement is simpler than this\n",
    "df[(df['cat_lat_pu']==9) & (df['cat_lon_pu']==7)]"
   ]
  },
  {
   "cell_type": "code",
   "execution_count": null,
   "id": "6656ccc1",
   "metadata": {},
   "outputs": [],
   "source": [
    "group_pu.get_group((9,7)).shape"
   ]
  },
  {
   "cell_type": "code",
   "execution_count": null,
   "id": "1c168440",
   "metadata": {},
   "outputs": [],
   "source": [
    "group_pu.size().sort_values(ascending=False) # same as value_counts on DataFrame"
   ]
  },
  {
   "cell_type": "markdown",
   "id": "3657f440",
   "metadata": {},
   "source": [
    "# Most Recent Pickup by Location Categories\n",
    "\n",
    "Using <code>groupby()</code> is an efficient way to find the most recent pickup and dropof times for all locations without needing to resort to using a <code>for</code> loop."
   ]
  },
  {
   "cell_type": "markdown",
   "id": "32e95ee8",
   "metadata": {},
   "source": [
    "First, we can sort the entire <code>DataFrame</code> in ascending order (it may already be in that order, but let's be sure.)"
   ]
  },
  {
   "cell_type": "code",
   "execution_count": null,
   "id": "95d3362d",
   "metadata": {},
   "outputs": [],
   "source": [
    "df.sort_values('pickup_datetime', inplace=True)"
   ]
  },
  {
   "cell_type": "code",
   "execution_count": null,
   "id": "975eb4d7",
   "metadata": {},
   "outputs": [],
   "source": [
    "df.head()"
   ]
  },
  {
   "cell_type": "code",
   "execution_count": null,
   "id": "cd429f50",
   "metadata": {},
   "outputs": [],
   "source": [
    "df.iloc[-1]"
   ]
  },
  {
   "cell_type": "markdown",
   "id": "bdf8b5a0",
   "metadata": {},
   "source": [
    "The most recent pickup time for each location is now the last row instance for that location in the <code>DataFrame</code>.  We can use <code>groupby</code> to subdivide the data by pickup location (while preserving row order) and choose the last intance for each location."
   ]
  },
  {
   "cell_type": "code",
   "execution_count": null,
   "id": "a9be77a1",
   "metadata": {},
   "outputs": [],
   "source": [
    "group_pu = df.groupby(['cat_lat_pu','cat_lon_pu'])"
   ]
  },
  {
   "cell_type": "code",
   "execution_count": null,
   "id": "d2a29bfa",
   "metadata": {},
   "outputs": [],
   "source": [
    "group_pu.last()"
   ]
  },
  {
   "cell_type": "code",
   "execution_count": null,
   "id": "76f118fe",
   "metadata": {},
   "outputs": [],
   "source": [
    "group_pu.last().loc[(9,7)]"
   ]
  },
  {
   "cell_type": "markdown",
   "id": "e6a453ae",
   "metadata": {},
   "source": [
    "Or, we can find the earliest pickup times for each location."
   ]
  },
  {
   "cell_type": "code",
   "execution_count": null,
   "id": "1d4075ad",
   "metadata": {},
   "outputs": [],
   "source": [
    "group_pu.first().loc[(9,7)]"
   ]
  },
  {
   "cell_type": "markdown",
   "id": "ff57d73c",
   "metadata": {},
   "source": [
    "Alternately, one could use the <code>max()</code> and <code>min()</code> functions."
   ]
  },
  {
   "cell_type": "code",
   "execution_count": null,
   "id": "513b8ad1",
   "metadata": {},
   "outputs": [],
   "source": [
    "group_pu['pickup_datetime'].max()"
   ]
  },
  {
   "cell_type": "code",
   "execution_count": null,
   "id": "86654f19",
   "metadata": {},
   "outputs": [],
   "source": [
    "y = group_pu['pickup_datetime'].max().to_string()\n",
    "print(y)"
   ]
  },
  {
   "cell_type": "code",
   "execution_count": null,
   "id": "f9553844",
   "metadata": {},
   "outputs": [],
   "source": [
    "group_pu['pickup_datetime'].max().loc[(9,7)]"
   ]
  },
  {
   "cell_type": "code",
   "execution_count": null,
   "id": "b03a7fe4",
   "metadata": {},
   "outputs": [],
   "source": [
    "group_pu.get_group((9,7))['pickup_datetime'].max()"
   ]
  },
  {
   "cell_type": "markdown",
   "id": "c9a55569",
   "metadata": {},
   "source": [
    "# Frequency Histogram of  Number of Passengers"
   ]
  },
  {
   "cell_type": "code",
   "execution_count": null,
   "id": "a5a368ef",
   "metadata": {},
   "outputs": [],
   "source": [
    "df['passenger_count'].value_counts()"
   ]
  },
  {
   "cell_type": "markdown",
   "id": "ef6109fd",
   "metadata": {},
   "source": [
    "Or, use <code>groupby</code> to get <code>value_counts()</code> for all pickup locaitons."
   ]
  },
  {
   "cell_type": "code",
   "execution_count": null,
   "id": "2c2dfa4c",
   "metadata": {},
   "outputs": [],
   "source": [
    "group_pu['passenger_count'].value_counts()"
   ]
  },
  {
   "cell_type": "code",
   "execution_count": null,
   "id": "dc8f63a4",
   "metadata": {},
   "outputs": [],
   "source": [
    "group_pu['passenger_count'].value_counts().loc[(9,7)]"
   ]
  },
  {
   "cell_type": "code",
   "execution_count": null,
   "id": "652a3a7e",
   "metadata": {},
   "outputs": [],
   "source": []
  },
  {
   "cell_type": "markdown",
   "id": "020ceffc",
   "metadata": {},
   "source": [
    "# Fare Histogram\n",
    "\n",
    "This is more difficult than number of passengers because this data column is of the float type with fractional parts.  We will use the <code>pandas.cut()</code> technique."
   ]
  },
  {
   "cell_type": "code",
   "execution_count": null,
   "id": "b0b60b10",
   "metadata": {},
   "outputs": [],
   "source": [
    "import numpy as np"
   ]
  },
  {
   "cell_type": "markdown",
   "id": "3afbee2d",
   "metadata": {},
   "source": [
    "Determine range of fares for histogram."
   ]
  },
  {
   "cell_type": "code",
   "execution_count": null,
   "id": "f89e6eb4",
   "metadata": {},
   "outputs": [],
   "source": [
    "df['fare_amount'].min(),df['fare_amount'].max()"
   ]
  },
  {
   "cell_type": "markdown",
   "id": "66c1537b",
   "metadata": {},
   "source": [
    "An easy approach, but maybe not the best."
   ]
  },
  {
   "cell_type": "code",
   "execution_count": null,
   "id": "457f286c",
   "metadata": {},
   "outputs": [],
   "source": [
    "np.histogram(df['fare_amount'], bins=25)"
   ]
  },
  {
   "cell_type": "markdown",
   "id": "cb51056e",
   "metadata": {},
   "source": [
    "Another fairly easy approach using <code>pandas.cut()</code>"
   ]
  },
  {
   "cell_type": "code",
   "execution_count": null,
   "id": "20a75bb7",
   "metadata": {},
   "outputs": [],
   "source": [
    "pd.cut(df['fare_amount'], bins=25)"
   ]
  },
  {
   "cell_type": "code",
   "execution_count": null,
   "id": "5262d2b7",
   "metadata": {},
   "outputs": [],
   "source": [
    "pd.cut(df['fare_amount'], bins=25).value_counts()"
   ]
  },
  {
   "cell_type": "markdown",
   "id": "fad3d61c",
   "metadata": {},
   "source": [
    "<code>pandas.cut()</code> with customized bin intervals."
   ]
  },
  {
   "cell_type": "code",
   "execution_count": null,
   "id": "f3281ebf",
   "metadata": {},
   "outputs": [],
   "source": [
    "pd.cut(df['fare_amount'], bins=[-5,0.,5,10,15,20,25,30,35,40,45,50,100,500]).value_counts().sort_index()"
   ]
  },
  {
   "cell_type": "markdown",
   "id": "bf43aec6",
   "metadata": {},
   "source": [
    "The hard (and slow) way to do the job."
   ]
  },
  {
   "cell_type": "code",
   "execution_count": null,
   "id": "36cc0fbf",
   "metadata": {},
   "outputs": [],
   "source": [
    "group_pu.groups.keys()"
   ]
  },
  {
   "cell_type": "code",
   "execution_count": null,
   "id": "f8b3cfd9",
   "metadata": {},
   "outputs": [],
   "source": [
    "for k in group_pu.groups.keys():\n",
    "    print('\\n\\n\\n',k)\n",
    "    print(pd.cut(group_pu.get_group(k)['fare_amount'], bins=[-5,0.,5,10,15,20,25,30,35,40,45,50,100,500]).value_counts())"
   ]
  },
  {
   "cell_type": "markdown",
   "id": "f1e798ed",
   "metadata": {},
   "source": [
    "# Frequency Histogram of Trips (Pickup & Dropoff Location Pairs)"
   ]
  },
  {
   "cell_type": "code",
   "execution_count": null,
   "id": "9fb57e90",
   "metadata": {},
   "outputs": [],
   "source": [
    "df[['cat_lat_pu','cat_lon_pu','cat_lat_do','cat_lon_do']].value_counts()"
   ]
  },
  {
   "cell_type": "markdown",
   "id": "6fc8a190",
   "metadata": {},
   "source": [
    "Is there anything interesting about  the most frequent trip patterns?"
   ]
  },
  {
   "cell_type": "code",
   "execution_count": null,
   "id": "eed0d6f8",
   "metadata": {},
   "outputs": [],
   "source": [
    "gp_trips = df.groupby(['cat_lat_pu','cat_lon_pu','cat_lat_do','cat_lon_do'])"
   ]
  },
  {
   "cell_type": "code",
   "execution_count": null,
   "id": "f6e7fc0f",
   "metadata": {},
   "outputs": [],
   "source": [
    "gp_trips.size()"
   ]
  },
  {
   "cell_type": "code",
   "execution_count": null,
   "id": "c950cac2",
   "metadata": {},
   "outputs": [],
   "source": [
    "gp_trips.size().sort_values(ascending=False)"
   ]
  },
  {
   "cell_type": "markdown",
   "id": "1679681a",
   "metadata": {},
   "source": [
    "The <code>.to_string()</code> method permits us to inspect all the rows of the <code>value_counts()</code> result, as does the altenrate method in the subsequent row."
   ]
  },
  {
   "cell_type": "code",
   "execution_count": null,
   "id": "2963e3ec",
   "metadata": {},
   "outputs": [],
   "source": [
    "to_print = gp_trips.size().sort_values(ascending=False).to_string()\n",
    "print(to_print)"
   ]
  },
  {
   "cell_type": "code",
   "execution_count": null,
   "id": "078a937d",
   "metadata": {},
   "outputs": [],
   "source": [
    "x = df[['cat_lat_pu','cat_lon_pu','cat_lat_do','cat_lon_do']].value_counts().to_string()\n",
    "print(x)"
   ]
  },
  {
   "cell_type": "code",
   "execution_count": null,
   "id": "fe6bc227",
   "metadata": {},
   "outputs": [],
   "source": [
    "with pd.option_context('display.max_rows', None,\n",
    "                       'display.max_columns', None,\n",
    "                       'display.precision', 3,\n",
    "                       ):\n",
    "    print(df[['cat_lat_pu','cat_lon_pu','cat_lat_do','cat_lon_do']].value_counts())"
   ]
  },
  {
   "cell_type": "markdown",
   "id": "c3c8e09b",
   "metadata": {},
   "source": []
  },
  {
   "cell_type": "markdown",
   "id": "8040a1cd",
   "metadata": {},
   "source": [
    "# Frequency Histogram for Fare Amount for the Most Popular Trip"
   ]
  },
  {
   "cell_type": "code",
   "execution_count": null,
   "id": "6255fd94",
   "metadata": {},
   "outputs": [],
   "source": [
    "gp_trips.groups"
   ]
  },
  {
   "cell_type": "code",
   "execution_count": null,
   "id": "59ba0360",
   "metadata": {},
   "outputs": [],
   "source": [
    "gp_trips.get_group((9,7,9,7)).head()"
   ]
  },
  {
   "cell_type": "code",
   "execution_count": null,
   "id": "f711583c",
   "metadata": {},
   "outputs": [],
   "source": [
    "gp_trips.get_group((9,7,9,7))['fare_amount'].head()"
   ]
  },
  {
   "cell_type": "code",
   "execution_count": null,
   "id": "3ac8e9b4",
   "metadata": {},
   "outputs": [],
   "source": [
    "gp_trips.get_group((9,7,9,7))['fare_amount'].describe()"
   ]
  },
  {
   "cell_type": "code",
   "execution_count": null,
   "id": "17e62a15",
   "metadata": {},
   "outputs": [],
   "source": [
    "pd.cut(gp_trips.get_group((9,7,9,7))['fare_amount'], bins=[-5,0.,5,10,15,20,25,30,35,40,45,50,100]).value_counts().sort_index()"
   ]
  },
  {
   "cell_type": "markdown",
   "id": "02549778",
   "metadata": {},
   "source": [
    "# Frequency of Trips Over Time for the Most Popular Trip "
   ]
  },
  {
   "cell_type": "code",
   "execution_count": null,
   "id": "ab4cfe06",
   "metadata": {},
   "outputs": [],
   "source": [
    "gp_trips.get_group((9,7,9,7))['pickup_datetime'].head()"
   ]
  },
  {
   "cell_type": "code",
   "execution_count": null,
   "id": "2759ce0b",
   "metadata": {},
   "outputs": [],
   "source": [
    "gp_trips.get_group((9,7,9,7))['pickup_datetime'].min()"
   ]
  },
  {
   "cell_type": "code",
   "execution_count": null,
   "id": "a9e98a19",
   "metadata": {},
   "outputs": [],
   "source": [
    "gp_trips.get_group((9,7,9,7))['pickup_datetime'].max()"
   ]
  },
  {
   "cell_type": "code",
   "execution_count": null,
   "id": "6b155afc",
   "metadata": {},
   "outputs": [],
   "source": [
    "trip_yr = []\n",
    "\n",
    "for date in gp_trips.get_group((9,7,9,7))['pickup_datetime']:\n",
    "    trip_yr.append(date.year)\n",
    "    \n",
    "pd.Series(trip_yr).value_counts().sort_index()"
   ]
  },
  {
   "cell_type": "code",
   "execution_count": null,
   "id": "62344722",
   "metadata": {},
   "outputs": [],
   "source": []
  }
 ],
 "metadata": {
  "kernelspec": {
   "display_name": "Python 3 (ipykernel)",
   "language": "python",
   "name": "python3"
  },
  "language_info": {
   "codemirror_mode": {
    "name": "ipython",
    "version": 3
   },
   "file_extension": ".py",
   "mimetype": "text/x-python",
   "name": "python",
   "nbconvert_exporter": "python",
   "pygments_lexer": "ipython3",
   "version": "3.7.13"
  }
 },
 "nbformat": 4,
 "nbformat_minor": 5
}
